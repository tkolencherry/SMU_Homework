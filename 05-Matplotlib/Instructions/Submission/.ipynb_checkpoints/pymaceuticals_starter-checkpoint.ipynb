{
 "cells": [
  {
   "cell_type": "markdown",
   "metadata": {},
   "source": [
    "## Pymaceuticals Analysis - Kolencherry"
   ]
  },
  {
   "cell_type": "markdown",
   "metadata": {},
   "source": [
    "See Word doc in folder for observations"
   ]
  },
  {
   "cell_type": "code",
   "execution_count": 1,
   "metadata": {},
   "outputs": [
    {
     "data": {
      "text/html": [
       "<div>\n",
       "<style scoped>\n",
       "    .dataframe tbody tr th:only-of-type {\n",
       "        vertical-align: middle;\n",
       "    }\n",
       "\n",
       "    .dataframe tbody tr th {\n",
       "        vertical-align: top;\n",
       "    }\n",
       "\n",
       "    .dataframe thead th {\n",
       "        text-align: right;\n",
       "    }\n",
       "</style>\n",
       "<table border=\"1\" class=\"dataframe\">\n",
       "  <thead>\n",
       "    <tr style=\"text-align: right;\">\n",
       "      <th></th>\n",
       "      <th>Mouse ID</th>\n",
       "      <th>Timepoint</th>\n",
       "      <th>Tumor Volume (mm3)</th>\n",
       "      <th>Metastatic Sites</th>\n",
       "      <th>Drug Regimen</th>\n",
       "      <th>Sex</th>\n",
       "      <th>Age_months</th>\n",
       "      <th>Weight (g)</th>\n",
       "    </tr>\n",
       "  </thead>\n",
       "  <tbody>\n",
       "    <tr>\n",
       "      <th>0</th>\n",
       "      <td>b128</td>\n",
       "      <td>0</td>\n",
       "      <td>45.0</td>\n",
       "      <td>0</td>\n",
       "      <td>Capomulin</td>\n",
       "      <td>Female</td>\n",
       "      <td>9</td>\n",
       "      <td>22</td>\n",
       "    </tr>\n",
       "    <tr>\n",
       "      <th>1</th>\n",
       "      <td>f932</td>\n",
       "      <td>0</td>\n",
       "      <td>45.0</td>\n",
       "      <td>0</td>\n",
       "      <td>Ketapril</td>\n",
       "      <td>Male</td>\n",
       "      <td>15</td>\n",
       "      <td>29</td>\n",
       "    </tr>\n",
       "    <tr>\n",
       "      <th>2</th>\n",
       "      <td>g107</td>\n",
       "      <td>0</td>\n",
       "      <td>45.0</td>\n",
       "      <td>0</td>\n",
       "      <td>Ketapril</td>\n",
       "      <td>Female</td>\n",
       "      <td>2</td>\n",
       "      <td>29</td>\n",
       "    </tr>\n",
       "    <tr>\n",
       "      <th>3</th>\n",
       "      <td>a457</td>\n",
       "      <td>0</td>\n",
       "      <td>45.0</td>\n",
       "      <td>0</td>\n",
       "      <td>Ketapril</td>\n",
       "      <td>Female</td>\n",
       "      <td>11</td>\n",
       "      <td>30</td>\n",
       "    </tr>\n",
       "    <tr>\n",
       "      <th>4</th>\n",
       "      <td>c819</td>\n",
       "      <td>0</td>\n",
       "      <td>45.0</td>\n",
       "      <td>0</td>\n",
       "      <td>Ketapril</td>\n",
       "      <td>Male</td>\n",
       "      <td>21</td>\n",
       "      <td>25</td>\n",
       "    </tr>\n",
       "  </tbody>\n",
       "</table>\n",
       "</div>"
      ],
      "text/plain": [
       "  Mouse ID  Timepoint  Tumor Volume (mm3)  Metastatic Sites Drug Regimen  \\\n",
       "0     b128          0                45.0                 0    Capomulin   \n",
       "1     f932          0                45.0                 0     Ketapril   \n",
       "2     g107          0                45.0                 0     Ketapril   \n",
       "3     a457          0                45.0                 0     Ketapril   \n",
       "4     c819          0                45.0                 0     Ketapril   \n",
       "\n",
       "      Sex  Age_months  Weight (g)  \n",
       "0  Female           9          22  \n",
       "1    Male          15          29  \n",
       "2  Female           2          29  \n",
       "3  Female          11          30  \n",
       "4    Male          21          25  "
      ]
     },
     "execution_count": 1,
     "metadata": {},
     "output_type": "execute_result"
    }
   ],
   "source": [
    "# Dependencies and Setup\n",
    "import matplotlib.pyplot as plt\n",
    "import pandas as pd\n",
    "import numpy as np\n",
    "import scipy.stats as st\n",
    "from scipy.stats import linregress\n",
    "\n",
    "# Study data files\n",
    "mouse_metadata_path = \"data/Mouse_metadata.csv\"\n",
    "study_results_path = \"data/Study_results.csv\"\n",
    "\n",
    "# Read the mouse data and the study results\n",
    "mouse_metadata = pd.read_csv(mouse_metadata_path)\n",
    "study_results = pd.read_csv(study_results_path)\n",
    "\n",
    "# Combine the data into a single dataset\n",
    "study_data = pd.merge(study_results,mouse_metadata, how = 'left', on= \"Mouse ID\")\n",
    "study_data.head()"
   ]
  },
  {
   "cell_type": "code",
   "execution_count": 2,
   "metadata": {},
   "outputs": [
    {
     "data": {
      "text/plain": [
       "1893"
      ]
     },
     "execution_count": 2,
     "metadata": {},
     "output_type": "execute_result"
    }
   ],
   "source": [
    "#Checking number of entries\n",
    "len(study_data)"
   ]
  },
  {
   "cell_type": "code",
   "execution_count": 3,
   "metadata": {},
   "outputs": [
    {
     "data": {
      "text/plain": [
       "249"
      ]
     },
     "execution_count": 3,
     "metadata": {},
     "output_type": "execute_result"
    }
   ],
   "source": [
    "# Checking the number of mice in the DataFrame.\n",
    "mice_count = study_data['Mouse ID'].nunique()\n",
    "mice_count"
   ]
  },
  {
   "cell_type": "code",
   "execution_count": 4,
   "metadata": {},
   "outputs": [
    {
     "data": {
      "text/html": [
       "<div>\n",
       "<style scoped>\n",
       "    .dataframe tbody tr th:only-of-type {\n",
       "        vertical-align: middle;\n",
       "    }\n",
       "\n",
       "    .dataframe tbody tr th {\n",
       "        vertical-align: top;\n",
       "    }\n",
       "\n",
       "    .dataframe thead th {\n",
       "        text-align: right;\n",
       "    }\n",
       "</style>\n",
       "<table border=\"1\" class=\"dataframe\">\n",
       "  <thead>\n",
       "    <tr style=\"text-align: right;\">\n",
       "      <th></th>\n",
       "      <th>Mouse ID</th>\n",
       "      <th>Timepoint</th>\n",
       "      <th>Tumor Volume (mm3)</th>\n",
       "      <th>Metastatic Sites</th>\n",
       "      <th>Drug Regimen</th>\n",
       "      <th>Sex</th>\n",
       "      <th>Age_months</th>\n",
       "      <th>Weight (g)</th>\n",
       "    </tr>\n",
       "  </thead>\n",
       "  <tbody>\n",
       "    <tr>\n",
       "      <th>0</th>\n",
       "      <td>b128</td>\n",
       "      <td>0</td>\n",
       "      <td>45.0</td>\n",
       "      <td>0</td>\n",
       "      <td>Capomulin</td>\n",
       "      <td>Female</td>\n",
       "      <td>9</td>\n",
       "      <td>22</td>\n",
       "    </tr>\n",
       "    <tr>\n",
       "      <th>1</th>\n",
       "      <td>f932</td>\n",
       "      <td>0</td>\n",
       "      <td>45.0</td>\n",
       "      <td>0</td>\n",
       "      <td>Ketapril</td>\n",
       "      <td>Male</td>\n",
       "      <td>15</td>\n",
       "      <td>29</td>\n",
       "    </tr>\n",
       "    <tr>\n",
       "      <th>2</th>\n",
       "      <td>g107</td>\n",
       "      <td>0</td>\n",
       "      <td>45.0</td>\n",
       "      <td>0</td>\n",
       "      <td>Ketapril</td>\n",
       "      <td>Female</td>\n",
       "      <td>2</td>\n",
       "      <td>29</td>\n",
       "    </tr>\n",
       "    <tr>\n",
       "      <th>3</th>\n",
       "      <td>a457</td>\n",
       "      <td>0</td>\n",
       "      <td>45.0</td>\n",
       "      <td>0</td>\n",
       "      <td>Ketapril</td>\n",
       "      <td>Female</td>\n",
       "      <td>11</td>\n",
       "      <td>30</td>\n",
       "    </tr>\n",
       "    <tr>\n",
       "      <th>4</th>\n",
       "      <td>c819</td>\n",
       "      <td>0</td>\n",
       "      <td>45.0</td>\n",
       "      <td>0</td>\n",
       "      <td>Ketapril</td>\n",
       "      <td>Male</td>\n",
       "      <td>21</td>\n",
       "      <td>25</td>\n",
       "    </tr>\n",
       "  </tbody>\n",
       "</table>\n",
       "</div>"
      ],
      "text/plain": [
       "  Mouse ID  Timepoint  Tumor Volume (mm3)  Metastatic Sites Drug Regimen  \\\n",
       "0     b128          0                45.0                 0    Capomulin   \n",
       "1     f932          0                45.0                 0     Ketapril   \n",
       "2     g107          0                45.0                 0     Ketapril   \n",
       "3     a457          0                45.0                 0     Ketapril   \n",
       "4     c819          0                45.0                 0     Ketapril   \n",
       "\n",
       "      Sex  Age_months  Weight (g)  \n",
       "0  Female           9          22  \n",
       "1    Male          15          29  \n",
       "2  Female           2          29  \n",
       "3  Female          11          30  \n",
       "4    Male          21          25  "
      ]
     },
     "execution_count": 4,
     "metadata": {},
     "output_type": "execute_result"
    }
   ],
   "source": [
    "# Getting the duplicate mice by ID number that shows up for Mouse ID and Timepoint. \n",
    "study_data_clean = study_data.drop_duplicates(['Mouse ID','Timepoint'])\n",
    "study_data_clean.head()"
   ]
  },
  {
   "cell_type": "markdown",
   "metadata": {},
   "source": [
    "## Summary Statistics"
   ]
  },
  {
   "cell_type": "code",
   "execution_count": 5,
   "metadata": {},
   "outputs": [
    {
     "data": {
      "text/html": [
       "<div>\n",
       "<style scoped>\n",
       "    .dataframe tbody tr th:only-of-type {\n",
       "        vertical-align: middle;\n",
       "    }\n",
       "\n",
       "    .dataframe tbody tr th {\n",
       "        vertical-align: top;\n",
       "    }\n",
       "\n",
       "    .dataframe thead th {\n",
       "        text-align: right;\n",
       "    }\n",
       "</style>\n",
       "<table border=\"1\" class=\"dataframe\">\n",
       "  <thead>\n",
       "    <tr style=\"text-align: right;\">\n",
       "      <th></th>\n",
       "      <th>Average Tumor Volume</th>\n",
       "      <th>Median Tumor Volume</th>\n",
       "      <th>Variance of Tumor Volume</th>\n",
       "      <th>Standard Deviation of Tumor Volume</th>\n",
       "      <th>Standard Error of Tumor Volume</th>\n",
       "    </tr>\n",
       "    <tr>\n",
       "      <th>Drug Regimen</th>\n",
       "      <th></th>\n",
       "      <th></th>\n",
       "      <th></th>\n",
       "      <th></th>\n",
       "      <th></th>\n",
       "    </tr>\n",
       "  </thead>\n",
       "  <tbody>\n",
       "    <tr>\n",
       "      <th>Capomulin</th>\n",
       "      <td>40.68</td>\n",
       "      <td>41.56</td>\n",
       "      <td>24.95</td>\n",
       "      <td>4.99</td>\n",
       "      <td>0.33</td>\n",
       "    </tr>\n",
       "    <tr>\n",
       "      <th>Ceftamin</th>\n",
       "      <td>52.59</td>\n",
       "      <td>51.78</td>\n",
       "      <td>39.29</td>\n",
       "      <td>6.27</td>\n",
       "      <td>0.47</td>\n",
       "    </tr>\n",
       "    <tr>\n",
       "      <th>Infubinol</th>\n",
       "      <td>52.88</td>\n",
       "      <td>51.82</td>\n",
       "      <td>43.13</td>\n",
       "      <td>6.57</td>\n",
       "      <td>0.49</td>\n",
       "    </tr>\n",
       "    <tr>\n",
       "      <th>Ketapril</th>\n",
       "      <td>55.24</td>\n",
       "      <td>53.70</td>\n",
       "      <td>68.55</td>\n",
       "      <td>8.28</td>\n",
       "      <td>0.60</td>\n",
       "    </tr>\n",
       "    <tr>\n",
       "      <th>Naftisol</th>\n",
       "      <td>54.33</td>\n",
       "      <td>52.51</td>\n",
       "      <td>66.17</td>\n",
       "      <td>8.13</td>\n",
       "      <td>0.60</td>\n",
       "    </tr>\n",
       "    <tr>\n",
       "      <th>Placebo</th>\n",
       "      <td>54.03</td>\n",
       "      <td>52.29</td>\n",
       "      <td>61.17</td>\n",
       "      <td>7.82</td>\n",
       "      <td>0.58</td>\n",
       "    </tr>\n",
       "    <tr>\n",
       "      <th>Propriva</th>\n",
       "      <td>52.39</td>\n",
       "      <td>50.91</td>\n",
       "      <td>43.14</td>\n",
       "      <td>6.57</td>\n",
       "      <td>0.53</td>\n",
       "    </tr>\n",
       "    <tr>\n",
       "      <th>Ramicane</th>\n",
       "      <td>40.22</td>\n",
       "      <td>40.67</td>\n",
       "      <td>23.49</td>\n",
       "      <td>4.85</td>\n",
       "      <td>0.32</td>\n",
       "    </tr>\n",
       "    <tr>\n",
       "      <th>Stelasyn</th>\n",
       "      <td>54.23</td>\n",
       "      <td>52.43</td>\n",
       "      <td>59.45</td>\n",
       "      <td>7.71</td>\n",
       "      <td>0.57</td>\n",
       "    </tr>\n",
       "    <tr>\n",
       "      <th>Zoniferol</th>\n",
       "      <td>53.24</td>\n",
       "      <td>51.82</td>\n",
       "      <td>48.53</td>\n",
       "      <td>6.97</td>\n",
       "      <td>0.52</td>\n",
       "    </tr>\n",
       "  </tbody>\n",
       "</table>\n",
       "</div>"
      ],
      "text/plain": [
       "              Average Tumor Volume  Median Tumor Volume  \\\n",
       "Drug Regimen                                              \n",
       "Capomulin                    40.68                41.56   \n",
       "Ceftamin                     52.59                51.78   \n",
       "Infubinol                    52.88                51.82   \n",
       "Ketapril                     55.24                53.70   \n",
       "Naftisol                     54.33                52.51   \n",
       "Placebo                      54.03                52.29   \n",
       "Propriva                     52.39                50.91   \n",
       "Ramicane                     40.22                40.67   \n",
       "Stelasyn                     54.23                52.43   \n",
       "Zoniferol                    53.24                51.82   \n",
       "\n",
       "              Variance of Tumor Volume  Standard Deviation of Tumor Volume  \\\n",
       "Drug Regimen                                                                 \n",
       "Capomulin                        24.95                                4.99   \n",
       "Ceftamin                         39.29                                6.27   \n",
       "Infubinol                        43.13                                6.57   \n",
       "Ketapril                         68.55                                8.28   \n",
       "Naftisol                         66.17                                8.13   \n",
       "Placebo                          61.17                                7.82   \n",
       "Propriva                         43.14                                6.57   \n",
       "Ramicane                         23.49                                4.85   \n",
       "Stelasyn                         59.45                                7.71   \n",
       "Zoniferol                        48.53                                6.97   \n",
       "\n",
       "              Standard Error of Tumor Volume  \n",
       "Drug Regimen                                  \n",
       "Capomulin                               0.33  \n",
       "Ceftamin                                0.47  \n",
       "Infubinol                               0.49  \n",
       "Ketapril                                0.60  \n",
       "Naftisol                                0.60  \n",
       "Placebo                                 0.58  \n",
       "Propriva                                0.53  \n",
       "Ramicane                                0.32  \n",
       "Stelasyn                                0.57  \n",
       "Zoniferol                               0.52  "
      ]
     },
     "execution_count": 5,
     "metadata": {},
     "output_type": "execute_result"
    }
   ],
   "source": [
    "#Generate mean, median, variance, standard deviation, and standard error \n",
    "avg_tumor = round(study_data_clean.groupby('Drug Regimen').mean()['Tumor Volume (mm3)'],2)\n",
    "median_tumor = round(study_data_clean.groupby('Drug Regimen').median()['Tumor Volume (mm3)'],2)\n",
    "var_tumor = round(study_data_clean.groupby('Drug Regimen').var()['Tumor Volume (mm3)'],2)\n",
    "stDev_tumor = round(study_data_clean.groupby('Drug Regimen').std()['Tumor Volume (mm3)'],2)\n",
    "sem_tumor = round(study_data_clean.groupby(['Drug Regimen']).sem()['Tumor Volume (mm3)'],2)\n",
    "\n",
    "#Create a table with the above summary statistics\n",
    "\n",
    "drug_summary = pd.concat([avg_tumor,median_tumor,var_tumor,stDev_tumor,sem_tumor], axis = 1)\n",
    "drug_summary.columns = ['Average Tumor Volume', 'Median Tumor Volume', 'Variance of Tumor Volume', \n",
    "                        'Standard Deviation of Tumor Volume', 'Standard Error of Tumor Volume']\n",
    "drug_summary"
   ]
  },
  {
   "cell_type": "markdown",
   "metadata": {},
   "source": [
    "## Bar Plots"
   ]
  },
  {
   "cell_type": "code",
   "execution_count": 6,
   "metadata": {},
   "outputs": [
    {
     "data": {
      "image/png": "[encoded data removed]",
      "text/plain": [
       "<Figure size 432x288 with 1 Axes>"
      ]
     },
     "metadata": {
      "needs_background": "light"
     },
     "output_type": "display_data"
    },
    {
     "data": {
      "image/png": "[encoded data removed]",
      "text/plain": [
       "<Figure size 432x288 with 1 Axes>"
      ]
     },
     "metadata": {
      "needs_background": "light"
     },
     "output_type": "display_data"
    },
    {
     "data": {
      "image/png": "[encoded data removed]",
      "text/plain": [
       "<Figure size 432x288 with 1 Axes>"
      ]
     },
     "metadata": {
      "needs_background": "light"
     },
     "output_type": "display_data"
    },
    {
     "data": {
      "image/png": "[encoded data removed]",
      "text/plain": [
       "<Figure size 432x288 with 1 Axes>"
      ]
     },
     "metadata": {
      "needs_background": "light"
     },
     "output_type": "display_data"
    },
    {
     "data": {
      "image/png": "[encoded data removed]",
      "text/plain": [
       "<Figure size 432x288 with 1 Axes>"
      ]
     },
     "metadata": {
      "needs_background": "light"
     },
     "output_type": "display_data"
    },
    {
     "data": {
      "image/png": "[encoded data removed]",
      "text/plain": [
       "<Figure size 432x288 with 1 Axes>"
      ]
     },
     "metadata": {
      "needs_background": "light"
     },
     "output_type": "display_data"
    },
    {
     "data": {
      "image/png": "[encoded data removed]",
      "text/plain": [
       "<Figure size 432x288 with 1 Axes>"
      ]
     },
     "metadata": {
      "needs_background": "light"
     },
     "output_type": "display_data"
    },
    {
     "data": {
      "image/png": "[encoded data removed]",
      "text/plain": [
       "<Figure size 432x288 with 1 Axes>"
      ]
     },
     "metadata": {
      "needs_background": "light"
     },
     "output_type": "display_data"
    },
    {
     "data": {
      "image/png": "[encoded data removed]",
      "text/plain": [
       "<Figure size 432x288 with 1 Axes>"
      ]
     },
     "metadata": {
      "needs_background": "light"
     },
     "output_type": "display_data"
    },
    {
     "data": {
      "image/png": "[encoded data removed]",
      "text/plain": [
       "<Figure size 432x288 with 1 Axes>"
      ]
     },
     "metadata": {
      "needs_background": "light"
     },
     "output_type": "display_data"
    }
   ],
   "source": [
    "#find the data for Capomulin over each time point and then plot onto bar graph THEN generalize it into a function\n",
    "\n",
    "#function to group by treatment, extract timepoint data, and graph the data\n",
    "def MiceBar(treatment):\n",
    "        #groupby the treatment and return rows for each treatment\n",
    "        mask = study_data_clean['Drug Regimen'] == treatment\n",
    "        drug_data = study_data_clean.loc[mask]\n",
    "        \n",
    "        #get the number of mouse alive at each timepoint and sort from largest to smallest \n",
    "        drug_timept = drug_data.Timepoint.value_counts().sort_values(ascending = False)\n",
    "\n",
    "        #let the index (timepoint) be the x values, and let the values of the series be the y values\n",
    "        x_axis = drug_timept.index\n",
    "        y_values = drug_timept.values\n",
    "        \n",
    "        #plot the bar graph \n",
    "        plt.bar(x_axis, y_values, color=['cornflowerblue'], align=\"center\", width = 2.5)\n",
    "        plt.title(f\"Mice Per Timepoint with {treatment} Treatment\")\n",
    "        plt.xlabel(\"Time Point (days)\")\n",
    "        plt.ylabel(\"Number of Mice Alive\")\n",
    "\n",
    "#iterate through each treatment in the data set\n",
    "for treatment in study_data_clean['Drug Regimen'].unique(): \n",
    "    MiceBar(treatment)\n",
    "    plt.show()"
   ]
  },
  {
   "cell_type": "markdown",
   "metadata": {},
   "source": [
    "## Pie Plots"
   ]
  },
  {
   "cell_type": "code",
   "execution_count": 7,
   "metadata": {},
   "outputs": [
    {
     "data": {
      "image/png": "[encoded data removed]",
      "text/plain": [
       "<Figure size 432x288 with 1 Axes>"
      ]
     },
     "metadata": {},
     "output_type": "display_data"
    }
   ],
   "source": [
    "#get the labels for sex by retrieving the unique values\n",
    "sex_labels = study_data_clean.Sex.unique()\n",
    "\n",
    "#get the pivot table equivalent for sex \n",
    "sex_values = study_data_clean.Sex.value_counts()\n",
    "\n",
    "#plot as pie chart and include percentages\n",
    "plt.pie(sex_values, labels = sex_labels, autopct= '%1.1f%%',pctdistance =.8, \n",
    "        colors= ['cornflowerblue','lightsteelblue'])\n",
    "plt.title('Ratio of Female vs Male Mice')\n",
    "plt.show()"
   ]
  },
  {
   "cell_type": "markdown",
   "metadata": {},
   "source": [
    "## Quartiles, Outliers and Boxplots"
   ]
  },
  {
   "cell_type": "code",
   "execution_count": 8,
   "metadata": {},
   "outputs": [
    {
     "name": "stdout",
     "output_type": "stream",
     "text": [
      "For the Capomulin treatment the median tumor volume is 38.13, the firstquartile is at 32.38,\n",
      "the third quartile is at 40.16, and the interquartile range is 7.78. \n",
      "The upper bound for checking for outliers is 51.83, and the lower bound is 20.71. \n",
      "\n",
      "For the Ramicane treatment the median tumor volume is 36.56, the firstquartile is at 31.56,\n",
      "the third quartile is at 40.66, and the interquartile range is 9.1. \n",
      "The upper bound for checking for outliers is 54.31, and the lower bound is 17.91. \n",
      "\n",
      "For the Infubinol treatment the median tumor volume is 60.17, the firstquartile is at 54.05,\n",
      "the third quartile is at 65.53, and the interquartile range is 11.48. \n",
      "The upper bound for checking for outliers is 82.75, and the lower bound is 36.83. \n",
      "\n",
      "For the Ceftamin treatment the median tumor volume is 59.85, the firstquartile is at 48.72,\n",
      "the third quartile is at 64.3, and the interquartile range is 15.58. \n",
      "The upper bound for checking for outliers is 87.67, and the lower bound is 25.35. \n",
      "\n",
      "There is an outlier for Infubinol - 36.32\n"
     ]
    },
    {
     "data": {
      "image/png": "[encoded data removed]",
      "text/plain": [
       "<Figure size 432x288 with 4 Axes>"
      ]
     },
     "metadata": {
      "needs_background": "light"
     },
     "output_type": "display_data"
    }
   ],
   "source": [
    "#get dataframe with max timepoints for each mice - not every one will be 45 days. \n",
    "max_timept = pd.DataFrame(study_data_clean.groupby(\"Mouse ID\").max()['Timepoint']).reset_index()\n",
    "\n",
    "#merge the full data set to the df with unique mouse-id's to get the corresponding tumor volume\n",
    "max_vol_df = pd.merge(max_timept, study_data_clean[['Mouse ID','Tumor Volume (mm3)', 'Drug Regimen', 'Timepoint']], \n",
    "         on = ['Mouse ID','Timepoint'], how = 'left')\n",
    "\n",
    "#Get data for four of the treatments (Capomulin, Ramicane, Infubinol, and Ceftamin)\n",
    "n = '\\n'\n",
    "top_drugs = ['Capomulin', 'Ramicane', 'Infubinol','Ceftamin']\n",
    "max_list = []\n",
    "for drug in top_drugs:\n",
    "    max_list.append(drug)\n",
    "    vals = max_vol_df.loc[max_vol_df['Drug Regimen'] == drug]['Tumor Volume (mm3)'].values\n",
    "    max_list.append(vals)\n",
    "    \n",
    "#Given the values for final tumor volume, calculate the median then calc Q1 and Q3. Calc IQR and find bounds. \n",
    "#Since drug names are also printed in the 'max_list' variable, need to grab odd indexes only - could have also used \n",
    "    #modulo to get the odd numbers rather than the list\n",
    "nums = [1,3,5,7]\n",
    "outliers = []\n",
    "for index in nums:\n",
    "    \n",
    "    median = round(np.median(max_list[index]),2)\n",
    "    Q1 = round(np.quantile(max_list[index],.25),2)\n",
    "    Q3 = round(np.quantile(max_list[index],.75),2)\n",
    "    IQR = round(Q3-Q1,2)\n",
    "    up_bound = round(1.5*IQR + Q3,2)\n",
    "    low_bound = round(Q1 - 1.5*IQR,2)\n",
    "    \n",
    "    print(f'For the {top_drugs[nums.index(index)]} treatment the median tumor volume is {median}, the first' \n",
    "          f'quartile is at {Q1},{n}the third quartile is at {Q3}, and the interquartile range is {IQR}. {n}'\n",
    "          f'The upper bound for checking for '\n",
    "          f'outliers is {up_bound}, and the lower bound is {low_bound}. {n}')\n",
    "    #if there is an outlier, print it to the outliers set\n",
    "    for x in max_list[index]: \n",
    "        if x > up_bound or x < low_bound:\n",
    "            outliers.append(top_drugs[nums.index(index)])\n",
    "            outliers.append(x)\n",
    "#if there aren't outliers, let us know \n",
    "if outliers != []: \n",
    "    print(f'There is an outlier for {outliers[0]} - {round(outliers[1],2)}')\n",
    "else: \n",
    "    print(f'There are no potential outliers for {top_drugs}')\n",
    "\n",
    "#Plot each list of datapoints in four subplots - quadrant style \n",
    "flierprops = dict(marker='o', markerfacecolor='cornflowerblue')\n",
    "\n",
    "figs, axs = plt.subplots(2,2)\n",
    "axs[0,0].set_title('Final Tumor Volume for Capomulin')\n",
    "axs[0,0].boxplot(max_list[1], notch = True)\n",
    "\n",
    "axs[0,1].set_title('Final Tumor Volume for Ramicane')\n",
    "axs[0,1].boxplot(max_list[3], notch = True)\n",
    "\n",
    "axs[1,1].set_title('Final Tumor Volume for Infubinol')\n",
    "axs[1,1].boxplot(max_list[5], notch = True, flierprops = flierprops)\n",
    "\n",
    "\n",
    "axs[1,0].set_title('Final Tumor Volume for Ceftamin')\n",
    "axs[1,0].boxplot(max_list[7], notch = True)\n",
    "\n",
    "#Same y labels, so iterate the assignment of labels\n",
    "for ax in axs.flat:\n",
    "    ax.set(ylabel='Tumor Volume (mm3)')\n",
    "    ax.xaxis.set_visible(False)\n",
    "\n",
    "#adjust the spacing between the sub-plots so everything is legible    \n",
    "plt.subplots_adjust(left=.125, bottom=.1, right=1.3, top=1.1, wspace=0.2, hspace=.2)\n",
    "\n",
    "#go back and use a for loop to define the tumor volume columns for each drug\n",
    "plt.show()"
   ]
  },
  {
   "cell_type": "markdown",
   "metadata": {},
   "source": [
    "## Line and Scatter Plots"
   ]
  },
  {
   "cell_type": "code",
   "execution_count": 9,
   "metadata": {},
   "outputs": [
    {
     "data": {
      "image/png": "[encoded data removed]",
      "text/plain": [
       "<Figure size 432x288 with 1 Axes>"
      ]
     },
     "metadata": {
      "needs_background": "light"
     },
     "output_type": "display_data"
    }
   ],
   "source": [
    "# Find all rows for mice treated with Capomulin. Then group by the time point and find \n",
    "    #the average tumor volume at each timepoint\n",
    "    \n",
    "tumor_time = study_data_clean.loc[study_data_clean['Mouse ID'] == \n",
    "                     'b128'][['Timepoint','Tumor Volume (mm3)']]\n",
    "\n",
    "#plot\n",
    "plt.plot(tumor_time.Timepoint,tumor_time['Tumor Volume (mm3)'], color = 'midnightblue')\n",
    "plt.title(\"Tumor Volume on Capomulin - Mouse B128\")\n",
    "plt.xlabel(\"Time Point (days)\")\n",
    "plt.ylabel(\"Tumor Volume (mm3)\")\n",
    "plt.show()"
   ]
  },
  {
   "cell_type": "code",
   "execution_count": 10,
   "metadata": {},
   "outputs": [
    {
     "data": {
      "image/png": "[encoded data removed]",
      "text/plain": [
       "<Figure size 432x288 with 1 Axes>"
      ]
     },
     "metadata": {
      "needs_background": "light"
     },
     "output_type": "display_data"
    }
   ],
   "source": [
    "# Find all rows for mice treated with Capomulin. Then group by their weights and find \n",
    "    #the average tumor volume at each weight\n",
    "tumor_values = study_data_clean.loc[study_data_clean['Drug Regimen'] == 'Capomulin'].groupby(\n",
    "    \"Weight (g)\").mean()['Tumor Volume (mm3)']\n",
    "\n",
    "#Plot the data in a scatter plot\n",
    "plt.scatter(tumor_values.index, tumor_values.values, color = 'cornflowerblue')\n",
    "plt.title(\"Weight vs Average Tumor Volume on Capomulin\")\n",
    "plt.xlabel(\"Weight (g)\")\n",
    "plt.ylabel(\"Tumor Volume (mm3)\")\n",
    "plt.show()"
   ]
  },
  {
   "cell_type": "markdown",
   "metadata": {},
   "source": [
    "## Correlation and Regression"
   ]
  },
  {
   "cell_type": "code",
   "execution_count": 11,
   "metadata": {},
   "outputs": [
    {
     "name": "stdout",
     "output_type": "stream",
     "text": [
      "The correlation coefficient is 0.951, which implies a strong positive correlation between weight and tumor volume\n",
      "The r-squared is: 0.904, which indicates that 90.44% of the variation in tumor volume can be explained by the linear regression model\n"
     ]
    },
    {
     "data": {
      "image/png": "[encoded data removed]",
      "text/plain": [
       "<Figure size 432x288 with 1 Axes>"
      ]
     },
     "metadata": {
      "needs_background": "light"
     },
     "output_type": "display_data"
    }
   ],
   "source": [
    "#Run a linear regression analysis on the weight(index) and tumor volume (values)\n",
    "regress = linregress(tumor_values.index, tumor_values.values)\n",
    "\n",
    "#Pull the correlation coeffiecient from the regression analysis output\n",
    "corr = round(regress.rvalue,3)\n",
    "print(f'The correlation coefficient is {corr}, which implies a strong positive correlation between '\n",
    "      'weight and tumor volume')\n",
    "\n",
    "#Generate expected values for tumor volume using the regression model\n",
    "regress_vals = tumor_values.index * regress.slope + regress.intercept\n",
    "\n",
    "#Generate regression equation\n",
    "regress_eq = \"y = \" + str(round(regress.slope,2)) + \"x + \" + str(round(regress.intercept,2))\n",
    "\n",
    "#Re-plot the scatter plot and add in the regression equation and line \n",
    "plt.scatter(tumor_values.index, tumor_values.values, color = 'cornflowerblue')\n",
    "plt.plot(tumor_values.index,regress_vals, color = 'slategrey')\n",
    "plt.annotate(regress_eq,(21.5,37),fontsize=12,color= 'darkblue')\n",
    "plt.title(\"Weight vs Average Tumor Volume on Capomulin\")\n",
    "plt.xlabel(\"Weight (g)\")\n",
    "plt.ylabel(\"Tumor Volume (mm3)\")\n",
    "print(f'The r-squared is: {round(corr**2,3)}, which indicates that {round((corr**2)*100,2)}% of the variation '\n",
    "      'in tumor volume can be explained by the linear regression model')\n",
    "plt.show()"
   ]
  },
  {
   "cell_type": "markdown",
   "metadata": {},
   "source": [
    "## Miscellaneous "
   ]
  },
  {
   "cell_type": "markdown",
   "metadata": {},
   "source": [
    "#### Weight vs Avg Tumor Volume - Breakdown by Sex"
   ]
  },
  {
   "cell_type": "code",
   "execution_count": 12,
   "metadata": {},
   "outputs": [
    {
     "data": {
      "text/plain": [
       "25"
      ]
     },
     "execution_count": 12,
     "metadata": {},
     "output_type": "execute_result"
    }
   ],
   "source": [
    "len(study_data_clean.loc[study_data_clean['Drug Regimen'] == 'Capomulin'].groupby('Mouse ID').count().index)"
   ]
  },
  {
   "cell_type": "code",
   "execution_count": 13,
   "metadata": {},
   "outputs": [
    {
     "name": "stdout",
     "output_type": "stream",
     "text": [
      "The correlation coefficient is 0.972, which implies a strong positive correlation\n",
      "between weight and tumor volume for females. \n",
      "\n",
      "The r-squared is 0.945, which indicates that 94.48% of the variation in average tumor volume\n",
      "in female mice can be explained by the linear regression model\n"
     ]
    },
    {
     "data": {
      "image/png": "[encoded data removed]",
      "text/plain": [
       "<Figure size 432x288 with 1 Axes>"
      ]
     },
     "metadata": {
      "needs_background": "light"
     },
     "output_type": "display_data"
    }
   ],
   "source": [
    "tumor_values_f = study_data_clean.loc[(study_data_clean['Drug Regimen'] == 'Capomulin') & \n",
    "                    (study_data_clean['Sex'] == 'Female')].groupby(\n",
    "                    \"Weight (g)\").mean()['Tumor Volume (mm3)']\n",
    "\n",
    "#Run a linear regression analysis on the weight(index) and tumor volume (values)\n",
    "regress_f = linregress(tumor_values_f.index, tumor_values_f.values)\n",
    "\n",
    "#Pull the correlation coeffiecient from the regression analysis output\n",
    "corr_f = round(regress_f.rvalue,3)\n",
    "print(f'The correlation coefficient is {corr_f}, which implies a strong positive correlation{n}' \n",
    "      f'between weight and tumor volume for females. {n}')\n",
    "\n",
    "#Generate expected values for tumor volume using the regression model\n",
    "regress_vals_f = tumor_values_f.index * regress_f.slope + regress_f.intercept\n",
    "\n",
    "#Generate regression equation\n",
    "regress_eq_f = \"y = \" + str(round(regress_f.slope,2)) + \"x + \" + str(round(regress_f.intercept,2))\n",
    "\n",
    "#Re-plot the scatter plot and add in the regression equation and line \n",
    "plt.scatter(tumor_values_f.index, tumor_values_f.values, color = 'cornflowerblue')\n",
    "plt.plot(tumor_values_f.index,regress_vals_f, color = 'slategrey')\n",
    "plt.annotate(regress_eq_f,(20,37),fontsize=12,color= 'darkblue')\n",
    "plt.title(f\"Weight vs Average Tumor Volume on Capomulin - Females\")\n",
    "plt.xlabel(\"Weight (g)\")\n",
    "plt.ylabel(\"Tumor Volume (mm3)\")\n",
    "print(f'The r-squared is {round(corr_f**2,3)}, which indicates that {round((corr_f**2)*100,2)}% of the variation '\n",
    "      f'in average tumor volume{n}in female mice can be explained by the linear regression model')\n",
    "plt.show()"
   ]
  },
  {
   "cell_type": "code",
   "execution_count": 14,
   "metadata": {},
   "outputs": [
    {
     "name": "stdout",
     "output_type": "stream",
     "text": [
      "The correlation coefficient is 0.803, which implies a moderate to strong positive correlation\n",
      "between weight and tumor volume for males.\n",
      "\n",
      "The r-squared is 0.645, which indicates that 64.48% of the variation in average tumor volume\n",
      "in male mice can be explained by the linear regression model\n"
     ]
    },
    {
     "data": {
      "image/png": "[encoded data removed]",
      "text/plain": [
       "<Figure size 432x288 with 1 Axes>"
      ]
     },
     "metadata": {
      "needs_background": "light"
     },
     "output_type": "display_data"
    }
   ],
   "source": [
    "tumor_values_m = study_data_clean.loc[(study_data_clean['Drug Regimen'] == 'Capomulin') & \n",
    "                    (study_data_clean['Sex'] == 'Male')].groupby(\n",
    "                    \"Weight (g)\").mean()['Tumor Volume (mm3)']\n",
    "#Run a linear regression analysis on the weight(index) and tumor volume (values)\n",
    "regress_m = linregress(tumor_values_m.index, tumor_values_m.values)\n",
    "\n",
    "#Pull the correlation coeffiecient from the regression analysis output\n",
    "corr_m = round(regress_m.rvalue,3)\n",
    "print(f'The correlation coefficient is {corr_m}, which implies a moderate to strong positive correlation{n}' \n",
    "      f'between weight and tumor volume for males.{n}')\n",
    "\n",
    "#Generate expected values for tumor volume using the regression model\n",
    "regress_vals_m = tumor_values_m.index * regress_m.slope + regress_m.intercept\n",
    "\n",
    "#Generate regression equation\n",
    "regress_eq_m = \"y = \" + str(round(regress_m.slope,2)) + \"x + \" + str(round(regress_m.intercept,2))\n",
    "\n",
    "#Re-plot the scatter plot and add in the regression equation and line \n",
    "plt.scatter(tumor_values_m.index, tumor_values_m.values, color = 'cornflowerblue')\n",
    "plt.plot(tumor_values_m.index,regress_vals_m, color = 'slategrey')\n",
    "plt.annotate(regress_eq_m,(21.5,38.5),fontsize=12,color= 'darkblue')\n",
    "plt.title(\"Weight vs Average Tumor Volume on Capomulin - Males\")\n",
    "plt.xlabel(\"Weight (g)\")\n",
    "plt.ylabel(\"Tumor Volume (mm3)\")\n",
    "print(f'The r-squared is {round(corr_m**2,3)}, which indicates that {round((corr_m**2)*100,2)}% of the variation '\n",
    "      f'in average tumor volume{n}in male mice can be explained by the linear regression model')\n",
    "plt.show()"
   ]
  },
  {
   "cell_type": "markdown",
   "metadata": {},
   "source": [
    "#### Early Deaths"
   ]
  },
  {
   "cell_type": "code",
   "execution_count": 15,
   "metadata": {},
   "outputs": [
    {
     "data": {
      "text/html": [
       "<div>\n",
       "<style scoped>\n",
       "    .dataframe tbody tr th:only-of-type {\n",
       "        vertical-align: middle;\n",
       "    }\n",
       "\n",
       "    .dataframe tbody tr th {\n",
       "        vertical-align: top;\n",
       "    }\n",
       "\n",
       "    .dataframe thead th {\n",
       "        text-align: right;\n",
       "    }\n",
       "</style>\n",
       "<table border=\"1\" class=\"dataframe\">\n",
       "  <thead>\n",
       "    <tr style=\"text-align: right;\">\n",
       "      <th></th>\n",
       "      <th>Mouse ID</th>\n",
       "      <th>Timepoint</th>\n",
       "      <th>Drug Regimen</th>\n",
       "      <th>Sex</th>\n",
       "      <th>Age_months</th>\n",
       "    </tr>\n",
       "  </thead>\n",
       "  <tbody>\n",
       "    <tr>\n",
       "      <th>0</th>\n",
       "      <td>a366</td>\n",
       "      <td>7</td>\n",
       "      <td>Stelasyn</td>\n",
       "      <td>Female</td>\n",
       "      <td>16</td>\n",
       "    </tr>\n",
       "    <tr>\n",
       "      <th>7</th>\n",
       "      <td>a457</td>\n",
       "      <td>3</td>\n",
       "      <td>Ketapril</td>\n",
       "      <td>Female</td>\n",
       "      <td>11</td>\n",
       "    </tr>\n",
       "    <tr>\n",
       "      <th>10</th>\n",
       "      <td>a577</td>\n",
       "      <td>7</td>\n",
       "      <td>Infubinol</td>\n",
       "      <td>Female</td>\n",
       "      <td>6</td>\n",
       "    </tr>\n",
       "    <tr>\n",
       "      <th>17</th>\n",
       "      <td>a788</td>\n",
       "      <td>7</td>\n",
       "      <td>Zoniferol</td>\n",
       "      <td>Male</td>\n",
       "      <td>5</td>\n",
       "    </tr>\n",
       "    <tr>\n",
       "      <th>24</th>\n",
       "      <td>b313</td>\n",
       "      <td>6</td>\n",
       "      <td>Zoniferol</td>\n",
       "      <td>Male</td>\n",
       "      <td>12</td>\n",
       "    </tr>\n",
       "    <tr>\n",
       "      <th>...</th>\n",
       "      <td>...</td>\n",
       "      <td>...</td>\n",
       "      <td>...</td>\n",
       "      <td>...</td>\n",
       "      <td>...</td>\n",
       "    </tr>\n",
       "    <tr>\n",
       "      <th>575</th>\n",
       "      <td>y449</td>\n",
       "      <td>4</td>\n",
       "      <td>Ramicane</td>\n",
       "      <td>Male</td>\n",
       "      <td>19</td>\n",
       "    </tr>\n",
       "    <tr>\n",
       "      <th>579</th>\n",
       "      <td>y601</td>\n",
       "      <td>2</td>\n",
       "      <td>Naftisol</td>\n",
       "      <td>Female</td>\n",
       "      <td>23</td>\n",
       "    </tr>\n",
       "    <tr>\n",
       "      <th>581</th>\n",
       "      <td>z234</td>\n",
       "      <td>2</td>\n",
       "      <td>Naftisol</td>\n",
       "      <td>Female</td>\n",
       "      <td>19</td>\n",
       "    </tr>\n",
       "    <tr>\n",
       "      <th>583</th>\n",
       "      <td>z314</td>\n",
       "      <td>2</td>\n",
       "      <td>Stelasyn</td>\n",
       "      <td>Female</td>\n",
       "      <td>21</td>\n",
       "    </tr>\n",
       "    <tr>\n",
       "      <th>585</th>\n",
       "      <td>z435</td>\n",
       "      <td>3</td>\n",
       "      <td>Propriva</td>\n",
       "      <td>Female</td>\n",
       "      <td>12</td>\n",
       "    </tr>\n",
       "  </tbody>\n",
       "</table>\n",
       "<p>119 rows × 5 columns</p>\n",
       "</div>"
      ],
      "text/plain": [
       "    Mouse ID  Timepoint Drug Regimen     Sex  Age_months\n",
       "0       a366          7     Stelasyn  Female          16\n",
       "7       a457          3     Ketapril  Female          11\n",
       "10      a577          7    Infubinol  Female           6\n",
       "17      a788          7    Zoniferol    Male           5\n",
       "24      b313          6    Zoniferol    Male          12\n",
       "..       ...        ...          ...     ...         ...\n",
       "575     y449          4     Ramicane    Male          19\n",
       "579     y601          2     Naftisol  Female          23\n",
       "581     z234          2     Naftisol  Female          19\n",
       "583     z314          2     Stelasyn  Female          21\n",
       "585     z435          3     Propriva  Female          12\n",
       "\n",
       "[119 rows x 5 columns]"
      ]
     },
     "execution_count": 15,
     "metadata": {},
     "output_type": "execute_result"
    }
   ],
   "source": [
    "alive_temp = study_data_clean.groupby(['Mouse ID']).count()['Timepoint'].reset_index()\n",
    "alive_full = alive_temp.loc[alive_temp.Timepoint<10]\n",
    "early_death = pd.merge(alive_full,study_data_clean[['Mouse ID','Drug Regimen','Sex','Age_months']],\n",
    "                       on = ['Mouse ID'], how = 'inner').drop_duplicates()\n",
    "early_death"
   ]
  },
  {
   "cell_type": "code",
   "execution_count": 16,
   "metadata": {},
   "outputs": [
    {
     "data": {
      "text/html": [
       "<div>\n",
       "<style scoped>\n",
       "    .dataframe tbody tr th:only-of-type {\n",
       "        vertical-align: middle;\n",
       "    }\n",
       "\n",
       "    .dataframe tbody tr th {\n",
       "        vertical-align: top;\n",
       "    }\n",
       "\n",
       "    .dataframe thead th {\n",
       "        text-align: right;\n",
       "    }\n",
       "</style>\n",
       "<table border=\"1\" class=\"dataframe\">\n",
       "  <thead>\n",
       "    <tr style=\"text-align: right;\">\n",
       "      <th></th>\n",
       "      <th>Mouse ID</th>\n",
       "    </tr>\n",
       "    <tr>\n",
       "      <th>Drug Regimen</th>\n",
       "      <th></th>\n",
       "    </tr>\n",
       "  </thead>\n",
       "  <tbody>\n",
       "    <tr>\n",
       "      <th>Capomulin</th>\n",
       "      <td>4</td>\n",
       "    </tr>\n",
       "    <tr>\n",
       "      <th>Ceftamin</th>\n",
       "      <td>12</td>\n",
       "    </tr>\n",
       "    <tr>\n",
       "      <th>Infubinol</th>\n",
       "      <td>16</td>\n",
       "    </tr>\n",
       "    <tr>\n",
       "      <th>Ketapril</th>\n",
       "      <td>14</td>\n",
       "    </tr>\n",
       "    <tr>\n",
       "      <th>Naftisol</th>\n",
       "      <td>12</td>\n",
       "    </tr>\n",
       "    <tr>\n",
       "      <th>Placebo</th>\n",
       "      <td>14</td>\n",
       "    </tr>\n",
       "    <tr>\n",
       "      <th>Propriva</th>\n",
       "      <td>18</td>\n",
       "    </tr>\n",
       "    <tr>\n",
       "      <th>Ramicane</th>\n",
       "      <td>5</td>\n",
       "    </tr>\n",
       "    <tr>\n",
       "      <th>Stelasyn</th>\n",
       "      <td>13</td>\n",
       "    </tr>\n",
       "    <tr>\n",
       "      <th>Zoniferol</th>\n",
       "      <td>11</td>\n",
       "    </tr>\n",
       "  </tbody>\n",
       "</table>\n",
       "</div>"
      ],
      "text/plain": [
       "              Mouse ID\n",
       "Drug Regimen          \n",
       "Capomulin            4\n",
       "Ceftamin            12\n",
       "Infubinol           16\n",
       "Ketapril            14\n",
       "Naftisol            12\n",
       "Placebo             14\n",
       "Propriva            18\n",
       "Ramicane             5\n",
       "Stelasyn            13\n",
       "Zoniferol           11"
      ]
     },
     "execution_count": 16,
     "metadata": {},
     "output_type": "execute_result"
    }
   ],
   "source": [
    "pd.DataFrame(early_death.groupby('Drug Regimen').count()['Mouse ID'])"
   ]
  },
  {
   "cell_type": "code",
   "execution_count": 17,
   "metadata": {},
   "outputs": [
    {
     "data": {
      "text/html": [
       "<div>\n",
       "<style scoped>\n",
       "    .dataframe tbody tr th:only-of-type {\n",
       "        vertical-align: middle;\n",
       "    }\n",
       "\n",
       "    .dataframe tbody tr th {\n",
       "        vertical-align: top;\n",
       "    }\n",
       "\n",
       "    .dataframe thead th {\n",
       "        text-align: right;\n",
       "    }\n",
       "</style>\n",
       "<table border=\"1\" class=\"dataframe\">\n",
       "  <thead>\n",
       "    <tr style=\"text-align: right;\">\n",
       "      <th></th>\n",
       "      <th>Mouse ID</th>\n",
       "    </tr>\n",
       "    <tr>\n",
       "      <th>Sex</th>\n",
       "      <th></th>\n",
       "    </tr>\n",
       "  </thead>\n",
       "  <tbody>\n",
       "    <tr>\n",
       "      <th>Female</th>\n",
       "      <td>62</td>\n",
       "    </tr>\n",
       "    <tr>\n",
       "      <th>Male</th>\n",
       "      <td>57</td>\n",
       "    </tr>\n",
       "  </tbody>\n",
       "</table>\n",
       "</div>"
      ],
      "text/plain": [
       "        Mouse ID\n",
       "Sex             \n",
       "Female        62\n",
       "Male          57"
      ]
     },
     "execution_count": 17,
     "metadata": {},
     "output_type": "execute_result"
    }
   ],
   "source": [
    "pd.DataFrame(early_death.groupby('Sex').count()['Mouse ID'])"
   ]
  },
  {
   "cell_type": "code",
   "execution_count": 18,
   "metadata": {},
   "outputs": [
    {
     "data": {
      "text/html": [
       "<div>\n",
       "<style scoped>\n",
       "    .dataframe tbody tr th:only-of-type {\n",
       "        vertical-align: middle;\n",
       "    }\n",
       "\n",
       "    .dataframe tbody tr th {\n",
       "        vertical-align: top;\n",
       "    }\n",
       "\n",
       "    .dataframe thead th {\n",
       "        text-align: right;\n",
       "    }\n",
       "</style>\n",
       "<table border=\"1\" class=\"dataframe\">\n",
       "  <thead>\n",
       "    <tr style=\"text-align: right;\">\n",
       "      <th></th>\n",
       "      <th>Mouse ID</th>\n",
       "    </tr>\n",
       "    <tr>\n",
       "      <th>Age_months</th>\n",
       "      <th></th>\n",
       "    </tr>\n",
       "  </thead>\n",
       "  <tbody>\n",
       "    <tr>\n",
       "      <th>1</th>\n",
       "      <td>3</td>\n",
       "    </tr>\n",
       "    <tr>\n",
       "      <th>2</th>\n",
       "      <td>8</td>\n",
       "    </tr>\n",
       "    <tr>\n",
       "      <th>3</th>\n",
       "      <td>6</td>\n",
       "    </tr>\n",
       "    <tr>\n",
       "      <th>4</th>\n",
       "      <td>6</td>\n",
       "    </tr>\n",
       "    <tr>\n",
       "      <th>5</th>\n",
       "      <td>10</td>\n",
       "    </tr>\n",
       "    <tr>\n",
       "      <th>6</th>\n",
       "      <td>7</td>\n",
       "    </tr>\n",
       "    <tr>\n",
       "      <th>7</th>\n",
       "      <td>3</td>\n",
       "    </tr>\n",
       "    <tr>\n",
       "      <th>8</th>\n",
       "      <td>5</td>\n",
       "    </tr>\n",
       "    <tr>\n",
       "      <th>9</th>\n",
       "      <td>1</td>\n",
       "    </tr>\n",
       "    <tr>\n",
       "      <th>10</th>\n",
       "      <td>1</td>\n",
       "    </tr>\n",
       "    <tr>\n",
       "      <th>11</th>\n",
       "      <td>5</td>\n",
       "    </tr>\n",
       "    <tr>\n",
       "      <th>12</th>\n",
       "      <td>4</td>\n",
       "    </tr>\n",
       "    <tr>\n",
       "      <th>13</th>\n",
       "      <td>2</td>\n",
       "    </tr>\n",
       "    <tr>\n",
       "      <th>14</th>\n",
       "      <td>5</td>\n",
       "    </tr>\n",
       "    <tr>\n",
       "      <th>15</th>\n",
       "      <td>4</td>\n",
       "    </tr>\n",
       "    <tr>\n",
       "      <th>16</th>\n",
       "      <td>5</td>\n",
       "    </tr>\n",
       "    <tr>\n",
       "      <th>17</th>\n",
       "      <td>3</td>\n",
       "    </tr>\n",
       "    <tr>\n",
       "      <th>18</th>\n",
       "      <td>5</td>\n",
       "    </tr>\n",
       "    <tr>\n",
       "      <th>19</th>\n",
       "      <td>9</td>\n",
       "    </tr>\n",
       "    <tr>\n",
       "      <th>20</th>\n",
       "      <td>2</td>\n",
       "    </tr>\n",
       "    <tr>\n",
       "      <th>21</th>\n",
       "      <td>8</td>\n",
       "    </tr>\n",
       "    <tr>\n",
       "      <th>22</th>\n",
       "      <td>6</td>\n",
       "    </tr>\n",
       "    <tr>\n",
       "      <th>23</th>\n",
       "      <td>7</td>\n",
       "    </tr>\n",
       "    <tr>\n",
       "      <th>24</th>\n",
       "      <td>4</td>\n",
       "    </tr>\n",
       "  </tbody>\n",
       "</table>\n",
       "</div>"
      ],
      "text/plain": [
       "            Mouse ID\n",
       "Age_months          \n",
       "1                  3\n",
       "2                  8\n",
       "3                  6\n",
       "4                  6\n",
       "5                 10\n",
       "6                  7\n",
       "7                  3\n",
       "8                  5\n",
       "9                  1\n",
       "10                 1\n",
       "11                 5\n",
       "12                 4\n",
       "13                 2\n",
       "14                 5\n",
       "15                 4\n",
       "16                 5\n",
       "17                 3\n",
       "18                 5\n",
       "19                 9\n",
       "20                 2\n",
       "21                 8\n",
       "22                 6\n",
       "23                 7\n",
       "24                 4"
      ]
     },
     "execution_count": 18,
     "metadata": {},
     "output_type": "execute_result"
    }
   ],
   "source": [
    "pd.DataFrame(early_death.groupby('Age_months').count()['Mouse ID'])"
   ]
  },
  {
   "cell_type": "code",
   "execution_count": null,
   "metadata": {},
   "outputs": [],
   "source": []
  }
 ],
 "metadata": {
  "anaconda-cloud": {},
  "kernelspec": {
   "display_name": "Python 3",
   "language": "python",
   "name": "python3"
  },
  "language_info": {
   "codemirror_mode": {
    "name": "ipython",
    "version": 3
   },
   "file_extension": ".py",
   "mimetype": "text/x-python",
   "name": "python",
   "nbconvert_exporter": "python",
   "pygments_lexer": "ipython3",
   "version": "3.7.6"
  }
 },
 "nbformat": 4,
 "nbformat_minor": 2
}
